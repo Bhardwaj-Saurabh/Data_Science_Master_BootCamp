{
 "cells": [
  {
   "cell_type": "markdown",
   "id": "f1a222e6",
   "metadata": {},
   "source": [
    "**Q1. What are the three measures of central tendency?**\n",
    "\n",
    "**Answer:**\n",
    "\n",
    "The three measures of central tendency are:\n",
    "\n",
    "Mean: The mean, also known as the average, is the sum of all values in a dataset divided by the total number of values. It represents the \"typical\" or \"expected\" value of a dataset and is affected by outliers or extreme values.\n",
    "\n",
    "Median: The median is the middle value of a dataset when the values are arranged in ascending or descending order. It is not affected by outliers and represents the \"middle\" or \"50th percentile\" value of a dataset.\n",
    "\n",
    "Mode: The mode is the value that occurs most frequently in a dataset. It represents the \"most common\" value in a dataset and can be used for datasets with categorical or discrete values. A dataset can have multiple modes (multimodal) or no mode (no values that occur more than once)."
   ]
  },
  {
   "cell_type": "markdown",
   "id": "a8bc2017",
   "metadata": {},
   "source": [
    "**Q2. What is the difference between the mean, median, and mode? How are they used to measure the central tendency of a dataset?**\n",
    "\n",
    "**Answer:**\n",
    "\n",
    "The mean, median, and mode are three different measures of central tendency that describe the \"typical\" or \"central\" value of a dataset. They are used to summarize and understand the distribution or central tendency of a dataset in different ways:\n",
    "\n",
    "Mean: The mean, also known as the average, is the sum of all values in a dataset divided by the total number of values. It is the most commonly used measure of central tendency and is sensitive to the magnitude and spread of all values in the dataset. The mean is affected by outliers or extreme values, as they can significantly impact the overall value of the mean. The mean is commonly used when the data is normally distributed or when there are no extreme values in the dataset.\n",
    "\n",
    "Median: The median is the middle value of a dataset when the values are arranged in ascending or descending order. It is not affected by outliers or extreme values, as it only considers the value that falls exactly in the middle of the dataset. The median is commonly used when the data is skewed or when there are extreme values in the dataset that can impact the mean. The median provides a measure of the \"middle\" or \"50th percentile\" value of a dataset.\n",
    "\n",
    "Mode: The mode is the value that occurs most frequently in a dataset. It represents the \"most common\" value in a dataset and can be used for datasets with categorical or discrete values. The mode is not affected by extreme values or the magnitude of values in the dataset, as it only considers the frequency of each value. The mode is commonly used when analyzing the frequency or occurrence of specific values in a dataset.\n"
   ]
  },
  {
   "cell_type": "markdown",
   "id": "b3f1279d",
   "metadata": {},
   "source": [
    "**Q3. Measure the three measures of central tendency for the given height data:**\n",
    "\n",
    "[178,177,176,177,178.2,178,175,179,180,175,178.9,176.2,177,172.5,178,176.5]\n",
    "\n",
    "**Answer:**\n",
    "\n",
    "Let's calculate the mean, median, and mode for the given height data.\n",
    "\n",
    "Mean:\n",
    "The mean is calculated by summing up all the values in the dataset and dividing by the total number of values.\n",
    "Mean = (178 + 177 + 176 + 177 + 178.2 + 178 + 175 + 179 + 180 + 175 + 178.9 + 176.2 + 177 + 172.5 + 178 + 176.5) / 16\n",
    "\n",
    "Mean = 2828.3 / 16\n",
    "\n",
    "Mean = 176.76875 (rounded to 4 decimal places)\n",
    "\n",
    "Median:\n",
    "The median is the middle value when the data is arranged in ascending or descending order.\n",
    "First, let's sort the data in ascending order:\n",
    "[172.5, 175, 175, 176, 176.2, 176.5, 177, 177, 178, 178, 178, 178.2, 178.9, 179, 180]\n",
    "\n",
    "The median is the middle value, which is the 8th value in the sorted dataset.\n",
    "\n",
    "Median = 178 (since there are two middle values, we take the average of the two, which is 178)\n",
    "\n",
    "Mode:\n",
    "The mode is the value that occurs most frequently in the dataset.\n",
    "The mode for the given dataset is 178, as it occurs three times, which is more frequently than any other value in the dataset."
   ]
  },
  {
   "cell_type": "markdown",
   "id": "f4c5ba4d",
   "metadata": {},
   "source": [
    "**Q4. Find the standard deviation for the given data:**\n",
    "\n",
    "[178,177,176,177,178.2,178,175,179,180,175,178.9,176.2,177,172.5,178,176.5]\n"
   ]
  },
  {
   "cell_type": "code",
   "execution_count": 1,
   "id": "890f0bc3",
   "metadata": {},
   "outputs": [
    {
     "name": "stdout",
     "output_type": "stream",
     "text": [
      "Standard Deviation: 1.7885814036548633\n"
     ]
    }
   ],
   "source": [
    "import math\n",
    "\n",
    "data = [178, 177, 176, 177, 178.2, 178, 175, 179, 180, 175, 178.9, 176.2, 177, 172.5, 178, 176.5]\n",
    "\n",
    "# Step 1: Calculate the mean\n",
    "mean = sum(data) / len(data)\n",
    "\n",
    "# Step 2: Calculate the sum of squared differences\n",
    "sum_squared_diff = sum((x - mean) ** 2 for x in data)\n",
    "\n",
    "# Step 3: Calculate the variance\n",
    "variance = sum_squared_diff / len(data)\n",
    "\n",
    "# Step 4: Calculate the standard deviation\n",
    "std_deviation = math.sqrt(variance)\n",
    "\n",
    "print(\"Standard Deviation:\", std_deviation)\n"
   ]
  },
  {
   "cell_type": "markdown",
   "id": "0320a5b0",
   "metadata": {},
   "source": [
    "**Q5. How are measures of dispersion such as range, variance, and standard deviation used to describe the spread of a dataset? Provide an example.**\n",
    "\n",
    "**Answer:**\n",
    "\n",
    "Measures of dispersion, such as range, variance, and standard deviation, are used to describe the spread or variability of a dataset. They provide information about how data points are distributed around the central tendency (mean, median, or mode) of the dataset. Here's an example:\n",
    "\n",
    "Let's consider a dataset of exam scores of 10 students in a class: [85, 89, 90, 78, 92, 87, 88, 91, 84, 86]. We can calculate various measures of dispersion for this dataset:\n",
    "\n",
    "Range: It is the difference between the highest and lowest values in the dataset. It provides a simple measure of how spread out the data is.\n",
    "Range = highest value - lowest value\n",
    "In our example:\n",
    "Range = 92 - 78 = 14\n",
    "\n",
    "Variance: It is the average of the squared differences of each data point from the mean. It provides a measure of how much the data points deviate from the mean.\n",
    "Variance = (sum of squared differences) / (number of data points)\n",
    "In our example:\n",
    "Mean = (85 + 89 + 90 + 78 + 92 + 87 + 88 + 91 + 84 + 86) / 10 = 87.2\n",
    "\n",
    "Squared differences from the mean = [(85-87.2)^2, (89-87.2)^2, (90-87.2)^2, (78-87.2)^2, (92-87.2)^2, (87-87.2)^2, (88-87.2)^2, (91-87.2)^2, (84-87.2)^2, (86-87.2)^2]\n",
    "\n",
    "Sum of squared differences = 518.16\n",
    "\n",
    "Variance = 518.16 / 10 = 51.816\n",
    "\n",
    "Standard Deviation: It is the square root of the variance. It provides a measure of the spread of the data points in the same unit as the original data.\n",
    "Standard Deviation = sqrt(Variance)\n",
    "In our example:\n",
    "Standard Deviation = sqrt(51.816) ≈ 7.2"
   ]
  },
  {
   "cell_type": "markdown",
   "id": "da26fcf3",
   "metadata": {},
   "source": [
    "**Q6. What is a Venn diagram?**\n",
    "\n",
    "**Answer:**\n",
    "\n",
    "A Venn diagram is a graphical representation of the relationships between sets or groups of objects or elements. It consists of overlapping circles or shapes, where each circle or shape represents a set or a group, and the overlapping regions represent the common elements or intersections between the sets. Venn diagrams are often used to visually depict the relationships, similarities, and differences between different sets of data."
   ]
  },
  {
   "cell_type": "markdown",
   "id": "bd685739",
   "metadata": {},
   "source": [
    "**Q7. For the two given sets A = (2,3,4,5,6,7) & B = (0,2,6,8,10).**\n",
    "\n",
    "Find:\n",
    "\n",
    "(i) A ∩ B\n",
    "\n",
    "(ii) A ⋃ B\n",
    "\n",
    "**Answer:**\n",
    "\n",
    "Let's calculate these operations:\n",
    "\n",
    "(i) A ∩ B (intersection):\n",
    "A = (2, 3, 4, 5, 6, 7)\n",
    "B = (0, 2, 6, 8, 10)\n",
    "\n",
    "The elements that are common to both sets A and B are 2 and 6.\n",
    "So, A ∩ B = {2, 6}\n",
    "\n",
    "(ii) A ∪ B (union):\n",
    "A = (2, 3, 4, 5, 6, 7)\n",
    "B = (0, 2, 6, 8, 10)\n",
    "\n",
    "The elements that are present in either set A or set B, or in both, are 0, 2, 3, 4, 5, 6, 7, 8, and 10.\n",
    "So, A ∪ B = {0, 2, 3, 4, 5, 6, 7, 8, 10}\n"
   ]
  },
  {
   "cell_type": "markdown",
   "id": "eee88924",
   "metadata": {},
   "source": [
    "**Q8. What do you understand about skewness in data?**\n",
    "\n",
    "**Answer:**\n",
    "\n",
    "Skewness in data refers to the asymmetry or lack of symmetry in the distribution of values in a dataset. It is a measure of the direction and degree of skew (departure from horizontal symmetry) in the data distribution.\n",
    "\n",
    "Skewness can be classified into three types:\n",
    "\n",
    "Positive Skewness (Right-skewed): In a positively skewed distribution, the tail of the distribution is extended towards the higher values, and the majority of the data points are concentrated towards the lower values. The mean is typically greater than the median in a positively skewed distribution.\n",
    "\n",
    "Negative Skewness (Left-skewed): In a negatively skewed distribution, the tail of the distribution is extended towards the lower values, and the majority of the data points are concentrated towards the higher values. The mean is typically less than the median in a negatively skewed distribution.\n",
    "\n",
    "Zero Skewness (Symmetrical): In a symmetrical distribution, the data is evenly distributed on both sides of the central tendency (mean, median, and mode), and the distribution appears symmetrically bell-shaped. The mean, median, and mode are all equal in a symmetrical distribution."
   ]
  },
  {
   "cell_type": "markdown",
   "id": "4c4a61d6",
   "metadata": {},
   "source": [
    "**Q9. If a data is right skewed then what will be the position of median with respect to mean?**\n",
    "\n",
    "**Answer:**\n",
    "\n",
    "If a data distribution is right-skewed, the median will typically be lower than the mean. This is because the tail of the distribution, which is extended towards the higher values, pulls the mean towards the higher values, resulting in a higher mean compared to the median.\n",
    "\n",
    "In a right-skewed distribution, the majority of the data points are concentrated towards the lower values, and the tail towards the higher values pulls the mean to the right, resulting in a higher value. On the other hand, the median represents the middle value of the dataset, and it is less affected by extreme values or outliers in the tail of the distribution. Therefore, the median is often closer to the values that are concentrated in the majority of the dataset, which are lower values in the case of right-skewed data."
   ]
  },
  {
   "cell_type": "markdown",
   "id": "76cfec95",
   "metadata": {},
   "source": [
    "**Q10. Explain the difference between covariance and correlation. How are these measures used in statistical analysis?**\n",
    "\n",
    "**Answer:**\n",
    "\n",
    "Covariance and correlation are both measures of the relationship between two variables in statistics, but they differ in several key aspects.\n",
    "\n",
    "Definition: Covariance measures the degree to which two variables change together. It is a measure of how much one variable changes on average with respect to changes in another variable. Covariance can be positive, indicating that the two variables tend to increase or decrease together, or negative, indicating that one variable tends to increase when the other decreases. On the other hand, correlation measures the strength and direction of the linear relationship between two variables. It is a standardized measure that ranges from -1 to 1, where -1 indicates a perfect negative linear relationship, 0 indicates no linear relationship, and 1 indicates a perfect positive linear relationship.\n",
    "\n",
    "Scale: Covariance is not standardized and depends on the units of the variables being measured. Therefore, it is difficult to interpret the magnitude of covariance without knowing the units of the variables. Correlation, on the other hand, is standardized and does not depend on the units of the variables, making it easier to compare the strength of relationships between variables.\n",
    "\n",
    "Interpretation: Covariance only measures the direction of the relationship between two variables, whether it is positive or negative. Correlation, on the other hand, measures both the strength and direction of the linear relationship between two variables. A correlation of 0 indicates no linear relationship, whereas a correlation of -1 or 1 indicates a perfect linear relationship, and a correlation close to 0 indicates a weak linear relationship.\n",
    "\n",
    "Range: Covariance can take any value, positive, negative, or zero, depending on the relationship between the variables. Correlation, on the other hand, always ranges between -1 and 1, with -1 indicating a perfect negative linear relationship, 0 indicating no linear relationship, and 1 indicating a perfect positive linear relationship.\n",
    "\n",
    "In statistical analysis, covariance and correlation are used to assess the strength and direction of the relationship between two variables. They can help in understanding how changes in one variable are related to changes in another variable, and they are used to make predictions and in decision-making. Correlation is often preferred over covariance because it is standardized and easier to interpret, and it can be used to compare relationships between variables with different units. Correlation is also widely used in regression analysis to model and predict the relationship between variables, and it is a key tool in many areas of statistics, data analysis, and machine learning."
   ]
  },
  {
   "cell_type": "markdown",
   "id": "4df8a3a3",
   "metadata": {},
   "source": [
    "**Q11. What is the formula for calculating the sample mean? Provide an example calculation for a dataset.**\n",
    "\n",
    "**Answer:**\n",
    "\n",
    "The formula for calculating the sample mean, also known as the average, is:\n",
    "\n",
    "Sample Mean (x̄) = Σx / n\n",
    "\n",
    "where:\n",
    "x̄ = sample mean\n",
    "Σx = sum of all values in the dataset\n",
    "n = number of values in the dataset\n",
    "\n",
    "Example calculation:\n",
    "\n",
    "Let's consider a dataset of 5 numbers: 10, 15, 20, 25, and 30.\n",
    "\n",
    "Step 1: Sum of all values in the dataset:\n",
    "Σx = 10 + 15 + 20 + 25 + 30 = 100\n",
    "\n",
    "Step 2: Number of values in the dataset:\n",
    "n = 5\n",
    "\n",
    "Step 3: Calculation of sample mean:\n",
    "x̄ = Σx / n = 100 / 5 = 20\n",
    "\n",
    "So, the sample mean of the given dataset is 20."
   ]
  },
  {
   "cell_type": "markdown",
   "id": "2afb3003",
   "metadata": {},
   "source": [
    "**Q12. For a normal distribution data what is the relationship between its measure of central tendency?**\n",
    "\n",
    "**Answer:**\n",
    "\n",
    "In a normal distribution, the three measures of central tendency - mean, median, and mode - are all equal and located at the center of the distribution.\n",
    "\n",
    "Specifically, in a perfectly symmetrical normal distribution:\n",
    "\n",
    "Mean (μ): The mean is located at the center of the distribution and is equal to the median. It represents the average value of the dataset.\n",
    "\n",
    "Median: The median is also located at the center of the distribution and is equal to the mean. It represents the middle value that separates the lower and upper halves of the dataset.\n",
    "\n",
    "Mode: The mode is also located at the center of the distribution and is equal to the mean and median. It represents the most frequently occurring value in the dataset."
   ]
  },
  {
   "cell_type": "markdown",
   "id": "750cb7e4",
   "metadata": {},
   "source": [
    "**Q13. How is covariance different from correlation?**\n",
    "\n",
    "** SEE ANSWER 10**"
   ]
  },
  {
   "cell_type": "markdown",
   "id": "bb31c84e",
   "metadata": {},
   "source": [
    "**Q14. How do outliers affect measures of central tendency and dispersion? Provide an example.**\n",
    "\n",
    "**Answer:**\n",
    "\n",
    "Outliers are data points that deviate significantly from the rest of the data in a dataset. They can have a significant impact on measures of central tendency and dispersion, potentially distorting their values and leading to misinterpretation of the data.\n",
    "\n",
    "Measures of Central Tendency: Outliers can significantly affect the calculation of measures of central tendency, such as the mean, median, and mode. The mean is especially sensitive to outliers as it takes into account the value of each data point. Outliers with extreme values can pull the mean in their direction, resulting in a biased estimate of the central tendency. The median, on the other hand, is less affected by outliers as it is the middle value in a dataset and is not influenced by extreme values. The mode, which is the most frequent value in a dataset, may also be affected by outliers if they are significantly different from the rest of the data.\n",
    "\n",
    "Example: Consider a dataset of salaries of employees in a company where most employees earn between $40,000 to $60,000 per year, but there is one outlier who earns $1,000,000 per year. If the mean is used as a measure of central tendency, it would be significantly higher than the salaries of the majority of employees, leading to a skewed estimate of the average salary.\n",
    "\n",
    "Measures of Dispersion: Outliers can also impact measures of dispersion, such as the range, variance, and standard deviation. The range, which is the difference between the highest and lowest values in a dataset, can be greatly influenced by outliers, leading to an overestimation or underestimation of the spread of the data. Variance and standard deviation, which are calculated based on the squared deviations from the mean, can also be heavily influenced by outliers, leading to an inflated or deflated estimate of the variability of the data.\n",
    "\n",
    "Example: Consider a dataset of test scores for a class of students where most scores fall between 60 to 80, but there is one outlier with a score of 100. If the variance or standard deviation is calculated, it would be higher than the actual variability of the scores due to the influence of the outlier."
   ]
  },
  {
   "cell_type": "markdown",
   "id": "39c820d3",
   "metadata": {},
   "source": []
  },
  {
   "cell_type": "markdown",
   "id": "647d1b14",
   "metadata": {},
   "source": []
  }
 ],
 "metadata": {
  "kernelspec": {
   "display_name": "Python 3 (ipykernel)",
   "language": "python",
   "name": "python3"
  },
  "language_info": {
   "codemirror_mode": {
    "name": "ipython",
    "version": 3
   },
   "file_extension": ".py",
   "mimetype": "text/x-python",
   "name": "python",
   "nbconvert_exporter": "python",
   "pygments_lexer": "ipython3",
   "version": "3.9.7"
  }
 },
 "nbformat": 4,
 "nbformat_minor": 5
}
