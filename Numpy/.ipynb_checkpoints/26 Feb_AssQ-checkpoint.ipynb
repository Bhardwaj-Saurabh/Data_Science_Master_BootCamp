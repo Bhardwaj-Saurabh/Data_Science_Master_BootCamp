{
 "cells": [
  {
   "cell_type": "markdown",
   "metadata": {
    "id": "IiBT6W8AUmgH"
   },
   "source": [
    "Consider the below code to answer further questions:\n",
    "\n",
    "import numpy as np\n",
    "\n",
    "list_ = [ ‘1’ , ’2’ , ‘3’ , ‘4’ , ‘5’ ]\n",
    "\n",
    "array_list = np.array(object = list_)\n",
    "\n",
    "**Q1. Is there any difference in the data type of variables list_ and array_list?**\n",
    "\n",
    "If there is then write a code to print the data types of both the variables.\n",
    "\n",
    "**Answer:**\n",
    "\n",
    "Yes, there is a difference in datatype of the list_ and array_list. list_ is a instance from list class and array_list is an instance from numpy.ndarray class.\n"
   ]
  },
  {
   "cell_type": "code",
   "execution_count": 4,
   "metadata": {
    "colab": {
     "base_uri": "https://localhost:8080/"
    },
    "executionInfo": {
     "elapsed": 2,
     "status": "ok",
     "timestamp": 1679388376162,
     "user": {
      "displayName": "Saurabh Bhardwaj",
      "userId": "16519378442147256210"
     },
     "user_tz": 0
    },
    "id": "mxUUjVAqVsv1",
    "outputId": "15b2e9ce-ca15-405b-eb4b-e74128b4c6b0"
   },
   "outputs": [
    {
     "name": "stdout",
     "output_type": "stream",
     "text": [
      "<class 'list'>\n",
      "<class 'numpy.ndarray'>\n"
     ]
    }
   ],
   "source": [
    "import numpy as np\n",
    "\n",
    "list_ = [ '1' , '2' , '3' , '4' , '5' ]\n",
    "\n",
    "array_list = np.array(object = list_)\n",
    "\n",
    "print(type(list_))\n",
    "\n",
    "print(type(array_list))"
   ]
  },
  {
   "cell_type": "markdown",
   "metadata": {
    "id": "hCRraOC0UmcA"
   },
   "source": [
    "**Q2. Write a code to print the data type of each and every element of both the variables list_ and arra_list.**"
   ]
  },
  {
   "cell_type": "code",
   "execution_count": 5,
   "metadata": {
    "colab": {
     "base_uri": "https://localhost:8080/"
    },
    "executionInfo": {
     "elapsed": 9,
     "status": "ok",
     "timestamp": 1679388553917,
     "user": {
      "displayName": "Saurabh Bhardwaj",
      "userId": "16519378442147256210"
     },
     "user_tz": 0
    },
    "id": "Kmaq6o6eWwE5",
    "outputId": "57dae876-ce40-427e-df0c-2338e0911843"
   },
   "outputs": [
    {
     "name": "stdout",
     "output_type": "stream",
     "text": [
      "<class 'str'>\n",
      "<class 'str'>\n",
      "<class 'str'>\n",
      "<class 'str'>\n",
      "<class 'str'>\n",
      "<class 'numpy.str_'>\n",
      "<class 'numpy.str_'>\n",
      "<class 'numpy.str_'>\n",
      "<class 'numpy.str_'>\n",
      "<class 'numpy.str_'>\n"
     ]
    }
   ],
   "source": [
    "for i in list_:\n",
    "    print(type(i))\n",
    "\n",
    "for i in array_list:\n",
    "    print(type(i))"
   ]
  },
  {
   "cell_type": "markdown",
   "metadata": {
    "id": "zQ7c-j-CUmZn"
   },
   "source": [
    "**Q3. Considering the following changes in the variable, array_list:**\n",
    "\n",
    "array_list = np.array(object = list_, dtype = int)\n",
    "\n",
    "Will there be any difference in the data type of the elements present in both the variables, list_ and arra_list? If so then print the data types of each and every element present in both the variables, list_ and arra_list.\n",
    "\n",
    "**Answer:**\n",
    "\n",
    "Yes, the dtype arguments in np.array will change the datatype of each element in the array list from numpy.str to numpy.int64.\n",
    "\n"
   ]
  },
  {
   "cell_type": "code",
   "execution_count": 6,
   "metadata": {
    "colab": {
     "base_uri": "https://localhost:8080/"
    },
    "executionInfo": {
     "elapsed": 3,
     "status": "ok",
     "timestamp": 1679388656459,
     "user": {
      "displayName": "Saurabh Bhardwaj",
      "userId": "16519378442147256210"
     },
     "user_tz": 0
    },
    "id": "CSqRUPn0XRml",
    "outputId": "340c8fd1-8d49-4d74-9303-62575977e502"
   },
   "outputs": [
    {
     "name": "stdout",
     "output_type": "stream",
     "text": [
      "<class 'str'>\n",
      "<class 'str'>\n",
      "<class 'str'>\n",
      "<class 'str'>\n",
      "<class 'str'>\n",
      "<class 'numpy.int64'>\n",
      "<class 'numpy.int64'>\n",
      "<class 'numpy.int64'>\n",
      "<class 'numpy.int64'>\n",
      "<class 'numpy.int64'>\n"
     ]
    }
   ],
   "source": [
    "array_list = np.array(object = list_, dtype = int)\n",
    "\n",
    "for i in list_:\n",
    "    print(type(i))\n",
    "\n",
    "for i in array_list:\n",
    "    print(type(i))"
   ]
  },
  {
   "cell_type": "markdown",
   "metadata": {
    "id": "Dp8G4R7HUmXP"
   },
   "source": [
    "\n",
    "Consider the below code to answer further questions:\n",
    "\n",
    "import numpy as np\n",
    "\n",
    "num_list = [ [ 1 , 2 , 3 ] , [ 4 , 5 , 6 ] ]\n",
    "\n",
    "num_array = np.array(object = num_list)\n",
    "\n",
    "**Q4. Write a code to find the following characteristics of variable, num_array:**\n",
    "\n",
    "(i) shape\n",
    "(ii) size"
   ]
  },
  {
   "cell_type": "code",
   "execution_count": 7,
   "metadata": {
    "colab": {
     "base_uri": "https://localhost:8080/"
    },
    "executionInfo": {
     "elapsed": 296,
     "status": "ok",
     "timestamp": 1679388744083,
     "user": {
      "displayName": "Saurabh Bhardwaj",
      "userId": "16519378442147256210"
     },
     "user_tz": 0
    },
    "id": "6D6jYxLzXf4A",
    "outputId": "e500afbe-55dc-4f78-dbf1-409f101d7c85"
   },
   "outputs": [
    {
     "name": "stdout",
     "output_type": "stream",
     "text": [
      "(2, 3)\n",
      "6\n"
     ]
    }
   ],
   "source": [
    "import numpy as np\n",
    "\n",
    "num_list = [ [ 1 , 2 , 3 ] , [ 4 , 5 , 6 ] ]\n",
    "\n",
    "num_array = np.array(object = num_list)\n",
    "\n",
    "print(num_array.shape)\n",
    "print(num_array.size)"
   ]
  },
  {
   "cell_type": "markdown",
   "metadata": {
    "id": "O9_pUMxVUmVP"
   },
   "source": [
    "**Q5. Write a code to create numpy array of 3x3 matrix containing zeros only, using a numpy array creation function.**\n",
    "\n",
    "[Hint: The size of the array will be 9 and the shape will be (3,3).]"
   ]
  },
  {
   "cell_type": "code",
   "execution_count": 8,
   "metadata": {
    "colab": {
     "base_uri": "https://localhost:8080/"
    },
    "executionInfo": {
     "elapsed": 316,
     "status": "ok",
     "timestamp": 1679388796497,
     "user": {
      "displayName": "Saurabh Bhardwaj",
      "userId": "16519378442147256210"
     },
     "user_tz": 0
    },
    "id": "_LbnGJ4_XqaL",
    "outputId": "96865a24-7ca3-48ba-fe5b-80357facdaa4"
   },
   "outputs": [
    {
     "name": "stdout",
     "output_type": "stream",
     "text": [
      "(3, 3)\n",
      "9\n"
     ]
    }
   ],
   "source": [
    "num_array = np.zeros((3,3))\n",
    "\n",
    "print(num_array.shape)\n",
    "print(num_array.size)"
   ]
  },
  {
   "cell_type": "markdown",
   "metadata": {
    "id": "FQfBnUlnUmS3"
   },
   "source": [
    "**Q6. Create an identity matrix of shape (5,5) using numpy functions?**\n",
    "\n",
    "[Hint: An identity matrix is a matrix containing 1 diagonally and other elements will be 0.]"
   ]
  },
  {
   "cell_type": "code",
   "execution_count": 11,
   "metadata": {
    "colab": {
     "base_uri": "https://localhost:8080/"
    },
    "executionInfo": {
     "elapsed": 250,
     "status": "ok",
     "timestamp": 1679388842558,
     "user": {
      "displayName": "Saurabh Bhardwaj",
      "userId": "16519378442147256210"
     },
     "user_tz": 0
    },
    "id": "iVU2eINbX3oh",
    "outputId": "442ee47a-bc63-4b5f-cf9c-c7a46b47dd3c"
   },
   "outputs": [
    {
     "name": "stdout",
     "output_type": "stream",
     "text": [
      "[[1. 0. 0. 0. 0.]\n",
      " [0. 1. 0. 0. 0.]\n",
      " [0. 0. 1. 0. 0.]\n",
      " [0. 0. 0. 1. 0.]\n",
      " [0. 0. 0. 0. 1.]]\n",
      "(5, 5)\n",
      "25\n"
     ]
    }
   ],
   "source": [
    "num_array = np.eye(5,5)\n",
    "\n",
    "print(num_array)\n",
    "print(num_array.shape)\n",
    "print(num_array.size)"
   ]
  },
  {
   "cell_type": "code",
   "execution_count": null,
   "metadata": {
    "id": "ZKCThlHlX699"
   },
   "outputs": [],
   "source": []
  }
 ],
 "metadata": {
  "colab": {
   "authorship_tag": "ABX9TyMhFehF6iSAYmur70bY1eKT",
   "provenance": []
  },
  "kernelspec": {
   "display_name": "Python 3 (ipykernel)",
   "language": "python",
   "name": "python3"
  },
  "language_info": {
   "codemirror_mode": {
    "name": "ipython",
    "version": 3
   },
   "file_extension": ".py",
   "mimetype": "text/x-python",
   "name": "python",
   "nbconvert_exporter": "python",
   "pygments_lexer": "ipython3",
   "version": "3.9.7"
  }
 },
 "nbformat": 4,
 "nbformat_minor": 1
}
