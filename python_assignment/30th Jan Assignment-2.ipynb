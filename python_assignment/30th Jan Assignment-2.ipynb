{
 "cells": [
  {
   "cell_type": "markdown",
   "id": "f87f9a59",
   "metadata": {},
   "source": [
    "# Assignment 2"
   ]
  },
  {
   "cell_type": "code",
   "execution_count": 1,
   "id": "96d9e02e",
   "metadata": {},
   "outputs": [
    {
     "name": "stdout",
     "output_type": "stream",
     "text": [
      "please enter the percentage: 54\n",
      "Grade: D\n"
     ]
    }
   ],
   "source": [
    "# 1. Write a program to accept percentage from the user and \n",
    "# display the grade according to the given criteria.\n",
    "\n",
    "# Get percentage from the user\n",
    "percentage = int(input('please enter the percentage: '))\n",
    "\n",
    "# output the grade as per given condition\n",
    "if percentage > 90:\n",
    "    print('Grade:', 'A')\n",
    "elif 80 < percentage <= 90:\n",
    "    print('Grade:', 'B')\n",
    "elif 60 <= percentage <= 80:\n",
    "    print('Grade:', 'C')\n",
    "elif percentage < 60:\n",
    "    print('Grade:', 'D')"
   ]
  },
  {
   "cell_type": "code",
   "execution_count": 2,
   "id": "52ed0427",
   "metadata": {},
   "outputs": [
    {
     "name": "stdout",
     "output_type": "stream",
     "text": [
      "please enter the bike cost: 678987\n",
      "Road tax is 101848.05\n"
     ]
    }
   ],
   "source": [
    "# 2. Write a program to accept the cost price of a bike and \n",
    "# display the road tax to be paid according to the following criteria:\n",
    "\n",
    "# Get cost from the user\n",
    "cost = int(input('please enter the bike cost: '))\n",
    "\n",
    "tax_percent = 0\n",
    "\n",
    "# out the road tax based on given condition\n",
    "if cost>100000:\n",
    "    tax_percent = 15\n",
    "elif 50000 < cost <= 100000:\n",
    "    tax_percent = 10\n",
    "elif cost <= 5000:\n",
    "    tax_percent = 5\n",
    "\n",
    "total_tax = cost * tax_percent/100\n",
    "\n",
    "print(f'Road tax is {total_tax}')"
   ]
  },
  {
   "cell_type": "code",
   "execution_count": 8,
   "id": "df241502",
   "metadata": {},
   "outputs": [
    {
     "name": "stdout",
     "output_type": "stream",
     "text": [
      "Please enter the name of the city: agra\n",
      "The Monument in Agra is Taj Mahal\n"
     ]
    }
   ],
   "source": [
    "# 3. Accept any city from the user and display monuments of that city.\n",
    "\n",
    "# get the name of the city\n",
    "city = input('Please enter the name of the city: ').lower()\n",
    "\n",
    "if city == 'delhi':\n",
    "    print(f'The Monument in {city.title()} is Red Fort')\n",
    "elif city == 'agra':\n",
    "    print(f'The Monument in {city.title()} is Taj Mahal')\n",
    "elif city == 'jaipur':\n",
    "    print(f'The Monument in {city.title()} is Jal Mahal')"
   ]
  },
  {
   "cell_type": "code",
   "execution_count": 11,
   "id": "7c850b27",
   "metadata": {},
   "outputs": [
    {
     "name": "stdout",
     "output_type": "stream",
     "text": [
      "Please enter a number: 300\n",
      "The 300 can be divided by three 4 times\n"
     ]
    }
   ],
   "source": [
    "#4.Check how many times a given number can be divided by 3 before it is less than or equal to 10.\n",
    "\n",
    "#get a number from the user\n",
    "number = int(input('Please enter a number: '))\n",
    "\n",
    "# start a counter\n",
    "count = 0 \n",
    "given_number = number\n",
    "while given_number > 10:\n",
    "    count += 1\n",
    "    given_number = given_number/3\n",
    "    \n",
    "print(f'The {number} can be divided by three {count} times')"
   ]
  },
  {
   "cell_type": "code",
   "execution_count": null,
   "id": "f9acc6c3",
   "metadata": {},
   "outputs": [],
   "source": [
    "# 5. Why and When to Usewhile Loopin Python give a detaileddescription with example\n",
    "\n"
   ]
  },
  {
   "cell_type": "code",
   "execution_count": null,
   "id": "7e328eaf",
   "metadata": {},
   "outputs": [],
   "source": [
    "# 6. Use nested while loop to print 3 different pattern.\n",
    "\n"
   ]
  },
  {
   "cell_type": "code",
   "execution_count": 12,
   "id": "97352b60",
   "metadata": {},
   "outputs": [],
   "source": [
    "# 7. Reverse a while loop to display numbers from 10 to 1."
   ]
  },
  {
   "cell_type": "code",
   "execution_count": 13,
   "id": "8f33af6c",
   "metadata": {},
   "outputs": [],
   "source": [
    "# 8. Reverse a while loop todisplay numbers from 10 to 1"
   ]
  },
  {
   "cell_type": "code",
   "execution_count": null,
   "id": "cb4aa472",
   "metadata": {},
   "outputs": [],
   "source": []
  }
 ],
 "metadata": {
  "kernelspec": {
   "display_name": "Python 3 (ipykernel)",
   "language": "python",
   "name": "python3"
  },
  "language_info": {
   "codemirror_mode": {
    "name": "ipython",
    "version": 3
   },
   "file_extension": ".py",
   "mimetype": "text/x-python",
   "name": "python",
   "nbconvert_exporter": "python",
   "pygments_lexer": "ipython3",
   "version": "3.9.7"
  }
 },
 "nbformat": 4,
 "nbformat_minor": 5
}
