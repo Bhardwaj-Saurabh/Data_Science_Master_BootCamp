{
 "cells": [
  {
   "cell_type": "markdown",
   "metadata": {
    "id": "GN9lr_N220l8"
   },
   "source": [
    "**Q1. Create a vehicle class with an init method having instance variables as name_of_vehicle, max_speed\n",
    "and average_of_vehicle.**\n",
    "\n",
    "\n"
   ]
  },
  {
   "cell_type": "code",
   "execution_count": 1,
   "metadata": {
    "executionInfo": {
     "elapsed": 2,
     "status": "ok",
     "timestamp": 1675958208220,
     "user": {
      "displayName": "Saurabh Bhardwaj",
      "userId": "16519378442147256210"
     },
     "user_tz": 0
    },
    "id": "SRS770MP4y0t"
   },
   "outputs": [],
   "source": [
    "class Vehicle:\n",
    "    def __init__(self, name_of_vehicle, max_speed, average_of_vehicle):\n",
    "        self.name_of_vehicle = name_of_vehicle\n",
    "        self.max_speed = max_speed\n",
    "        self.average_of_vehicle = average_of_vehicle"
   ]
  },
  {
   "cell_type": "markdown",
   "metadata": {
    "id": "EwJY3deD27F7"
   },
   "source": [
    "**Q2. Create a child class car from the vehicle class created in Que 1, which will inherit the vehicle class. Create a method named seating_capacity which takes capacity as an argument and returns the name of the vehicle and its seating capacity.**"
   ]
  },
  {
   "cell_type": "code",
   "execution_count": 7,
   "metadata": {
    "colab": {
     "base_uri": "https://localhost:8080/"
    },
    "executionInfo": {
     "elapsed": 302,
     "status": "ok",
     "timestamp": 1675959532323,
     "user": {
      "displayName": "Saurabh Bhardwaj",
      "userId": "16519378442147256210"
     },
     "user_tz": 0
    },
    "id": "OL9wgTFJ5OkN",
    "outputId": "abdb4f47-beff-4966-b509-a222616d1927"
   },
   "outputs": [
    {
     "name": "stdout",
     "output_type": "stream",
     "text": [
      "The vehicle Mazda has capacity of 3\n"
     ]
    }
   ],
   "source": [
    "class Car(Vehicle):\n",
    "    def __init__(self, name_of_vehicle, max_speed, average_of_vehicle):\n",
    "        super().__init__(name_of_vehicle, max_speed, average_of_vehicle)\n",
    "\n",
    "    def seating_capacity(self, capacity):\n",
    "        return print('The vehicle {} has capacity of {}'.format(self.name_of_vehicle, capacity))\n",
    "\n",
    "car = Car('Mazda', '40', '3')\n",
    "car.seating_capacity(3)"
   ]
  },
  {
   "cell_type": "markdown",
   "metadata": {
    "id": "10QMfPYs27DL"
   },
   "source": [
    "**Q3. What is multiple inheritance? Write a python code to demonstrate multiple inheritance.**"
   ]
  },
  {
   "cell_type": "code",
   "execution_count": 1,
   "metadata": {},
   "outputs": [
    {
     "name": "stdout",
     "output_type": "stream",
     "text": [
      "Mammals can give direct birth.\n",
      "Winged animals can flap.\n"
     ]
    }
   ],
   "source": [
    "'''\n",
    "In python, When a class is derived from more than one superclass, it is known as multiple inheritance.\n",
    "'''\n",
    "\n",
    "# example \n",
    "\n",
    "class Dog:\n",
    "    def dog_info(self):\n",
    "        print(\"Dog is friendly.\")\n",
    "\n",
    "class Cat:\n",
    "    def cat_info(self):\n",
    "        print(\"Winged animals can flap.\")\n",
    "\n",
    "class Bat(Mammal, WingedAnimal):\n",
    "    pass\n",
    "\n",
    "# create an object of Bat class\n",
    "b1 = Bat()\n",
    "\n",
    "b1.mammal_info()\n",
    "b1.winged_animal_info()"
   ]
  },
  {
   "cell_type": "markdown",
   "metadata": {
    "id": "lvstrZj527BS"
   },
   "source": [
    "**Q4. What are getter and setter in python? Create a class and create a getter and a setter method in this class.**"
   ]
  },
  {
   "cell_type": "code",
   "execution_count": 4,
   "metadata": {},
   "outputs": [
    {
     "name": "stdout",
     "output_type": "stream",
     "text": [
      "setter method\n",
      "getter method\n",
      "18\n"
     ]
    }
   ],
   "source": [
    "'''\n",
    "A getter is a method that gets the value of a property. \n",
    "In OOPs this helps to access private attributes from a class.\n",
    "\n",
    "A setter is a method that sets the value of a property. \n",
    "In OOPs this helps to set the value to private attributes in a class.\n",
    "Basically, using getters and setters ensures data encapsulation\n",
    "'''\n",
    "\n",
    "class Person:   \n",
    "    def __init__(self):   \n",
    "        self._age = 0  \n",
    "    \n",
    "    def get_age(self):   \n",
    "        print(\"getter method\")   \n",
    "        return self._age   \n",
    "\n",
    "    def set_age(self, y):   \n",
    "        print(\"setter method\")   \n",
    "        self._age = y   \n",
    "\n",
    "    def del_age(self):   \n",
    "        del self._age   \n",
    "    age = property(get_age, set_age, del_age)    \n",
    "    \n",
    "John = Person()   \n",
    "    \n",
    "John.age = 18  \n",
    "    \n",
    "print(John.age)   \n"
   ]
  },
  {
   "cell_type": "markdown",
   "metadata": {
    "id": "JQ8zyG_z26_T"
   },
   "source": [
    "**Q5.What is method overriding in python? Write a python code to demonstrate method overriding.**"
   ]
  },
  {
   "cell_type": "code",
   "execution_count": 8,
   "metadata": {
    "id": "B_uWhIWr20JV"
   },
   "outputs": [
    {
     "name": "stdout",
     "output_type": "stream",
     "text": [
      "The method Walk here is overridden in the code\n",
      "It is child class\n",
      "It is parent class\n"
     ]
    }
   ],
   "source": [
    "'''\n",
    "Method overriding in Python is when you have two methods with the same name that \n",
    "each perform different tasks and it is an important feature of inheritance in OOP.\n",
    "'''\n",
    "\n",
    "class Animal:\n",
    "    def Walk(self):\n",
    "        print('It is parent class')\n",
    "\n",
    "class Dog(Animal):\n",
    "    def Walk(self):\n",
    "        print('It is child class')\n",
    "        \n",
    "print('The method Walk here is overridden in the code')\n",
    "\n",
    "d = Dog()\n",
    "d.Walk()\n",
    "\n",
    "d = Animal()\n",
    "d.Walk()"
   ]
  },
  {
   "cell_type": "code",
   "execution_count": null,
   "metadata": {},
   "outputs": [],
   "source": []
  }
 ],
 "metadata": {
  "colab": {
   "authorship_tag": "ABX9TyPpPJtJRcd+QFMqyXd90wjl",
   "provenance": []
  },
  "kernelspec": {
   "display_name": "Python 3 (ipykernel)",
   "language": "python",
   "name": "python3"
  },
  "language_info": {
   "codemirror_mode": {
    "name": "ipython",
    "version": 3
   },
   "file_extension": ".py",
   "mimetype": "text/x-python",
   "name": "python",
   "nbconvert_exporter": "python",
   "pygments_lexer": "ipython3",
   "version": "3.9.7"
  }
 },
 "nbformat": 4,
 "nbformat_minor": 1
}
