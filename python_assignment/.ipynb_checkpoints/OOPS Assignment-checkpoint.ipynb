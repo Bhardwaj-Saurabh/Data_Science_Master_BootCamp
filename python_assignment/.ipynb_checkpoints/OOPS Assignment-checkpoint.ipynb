{
 "cells": [
  {
   "cell_type": "markdown",
   "metadata": {
    "id": "MJP-0HnJ_xo-"
   },
   "source": [
    "**Q1. Explain Class and Object with respect to Object-Oriented Programming. Give a suitable example.**\n",
    "\n",
    "Classes are user-defined data types that act as the blueprint for individual objects, attributes and methods.\n",
    "\n",
    "Objects are instances of a class created with specifically defined data. Objects can correspond to real-world objects or an abstract entity. When class is defined initially, the description is the only object that is defined.\n",
    "\n",
    "for example: \n",
    "\n",
    "A class is: \n",
    "\n",
    "class Bike:\n",
    "\n",
    "    name = \"\"\n",
    "    gear = 0\n",
    "    \n",
    "and an object is: \n",
    "\n",
    "bike1 = Bike()"
   ]
  },
  {
   "cell_type": "markdown",
   "metadata": {
    "id": "qS7slLo4_2f_"
   },
   "source": [
    "**Q2. Name the four pillars of OOPs.**\n",
    "\n",
    "There are four pillars:\n",
    "\n",
    "Encapsulation\n",
    "\n",
    "Inheritance\n",
    "\n",
    "Polymorphism\n",
    "\n",
    "Abstraction"
   ]
  },
  {
   "cell_type": "markdown",
   "metadata": {
    "id": "bnLE5Cds_2yX"
   },
   "source": [
    "**Q3. Explain why the __init__() function is used. Give a suitable example.**\n",
    "\n",
    "It is a constructor also known as a special method that the program calls when creating an object. It is used in the class to initialize data members to the object. \n",
    "\n",
    "With a class example such as dog, we can use a constructor to assign dog characteristics to each object we created with it."
   ]
  },
  {
   "cell_type": "markdown",
   "metadata": {
    "id": "gNxXyG7K_3HP"
   },
   "source": [
    "**Q4. Why self is used in OOPs?**\n",
    "\n",
    "The self keyword is used to represent an instance of the given class. In a dog class case, the two Dog objects dog1 and dog2 have their own name and age attributes. If there was no self argument, the same class couldn't hold the information for both these objects."
   ]
  },
  {
   "cell_type": "markdown",
   "metadata": {
    "id": "5amhIIrC_3XH"
   },
   "source": [
    "**Q5. What is inheritance? Give an example for each type of inheritance.**\n",
    "\n",
    "Inheritance allows us to define a class that inherits all the methods and properties from another class.\n",
    "\n",
    "Parent class is the class being inherited from, also called base class.\n",
    "\n",
    "Child class is the class that inherits from another class, also called derived class.\n",
    "\n",
    "for example, a class called student can have many properties about student and can be treated as a child class. Another class school can inherite all the propeties of student class into school class and act as a parent class.\n"
   ]
  },
  {
   "cell_type": "code",
   "execution_count": null,
   "metadata": {},
   "outputs": [],
   "source": []
  }
 ],
 "metadata": {
  "colab": {
   "authorship_tag": "ABX9TyOSwTo+JNdDxdkzn6nzaZQ3",
   "provenance": []
  },
  "kernelspec": {
   "display_name": "Python 3 (ipykernel)",
   "language": "python",
   "name": "python3"
  },
  "language_info": {
   "codemirror_mode": {
    "name": "ipython",
    "version": 3
   },
   "file_extension": ".py",
   "mimetype": "text/x-python",
   "name": "python",
   "nbconvert_exporter": "python",
   "pygments_lexer": "ipython3",
   "version": "3.9.7"
  }
 },
 "nbformat": 4,
 "nbformat_minor": 1
}
