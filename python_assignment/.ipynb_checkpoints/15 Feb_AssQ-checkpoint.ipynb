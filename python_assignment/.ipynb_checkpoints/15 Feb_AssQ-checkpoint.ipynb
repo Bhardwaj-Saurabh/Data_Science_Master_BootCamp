{
 "cells": [
  {
   "cell_type": "markdown",
   "id": "069848fe",
   "metadata": {},
   "source": [
    "**Q1. What is multiprocessing in python? Why is it useful?**\n",
    "\n",
    "**Answer:** \n",
    "\n",
    "Multiprocessing in Python refers to the ability of the Python programming language to execute multiple tasks or processes concurrently, utilizing multiple CPU cores or processors. It allows for the execution of multiple tasks simultaneously, which can greatly improve the performance and efficiency of certain types of applications.\n",
    "\n",
    "The primary advantage of using multiprocessing in Python is that it can significantly speed up the execution of tasks that are CPU-bound or computationally intensive. By utilizing multiple CPU cores, multiprocessing allows for parallel processing of tasks, which can lead to faster execution times and improved overall performance. This is especially beneficial for tasks such as data processing, scientific computing, simulations, and other CPU-intensive operations.\n",
    "\n",
    "Another benefit of multiprocessing is that it can enhance the responsiveness of certain types of applications. For example, in applications where real-time data processing is critical, multiprocessing can help ensure that tasks are completed quickly and do not cause delays or bottlenecks."
   ]
  },
  {
   "cell_type": "markdown",
   "id": "de4ce648",
   "metadata": {},
   "source": [
    "**Q2. What are the differences between multiprocessing and multithreading?**\n",
    "\n",
    "**Answer:** \n",
    "\n",
    "Multiprocessing and multithreading are both techniques used for concurrent execution of tasks in computer programs, but they differ in several key aspects:\n",
    "\n",
    "Execution Model: In multiprocessing, multiple processes are created, each with its own memory space and Python interpreter. These processes run independently of each other and communicate via inter-process communication (IPC) mechanisms such as pipes, queues, or shared memory. In multithreading, multiple threads are created within a single process, and they share the same memory space and Python interpreter.\n",
    "\n",
    "CPU Utilization: In multiprocessing, each process runs on a separate CPU core, allowing for true parallel processing and maximum CPU utilization. In multithreading, all threads share the same CPU core, and the operating system or Python interpreter schedules them to run concurrently on the same core using time slicing. This means that multithreading may not achieve the same level of CPU utilization as multiprocessing, especially in CPU-bound tasks.\n",
    "\n",
    "Memory Isolation: In multiprocessing, each process has its own memory space, which provides strong isolation between processes. This can be advantageous in scenarios where data separation or isolation is critical, as one process does not have direct access to another process's memory. In multithreading, threads share the same memory space, which can lead to issues such as race conditions, where multiple threads may access and modify shared data simultaneously, leading to unexpected behavior.\n",
    "\n",
    "Overhead: Multiprocessing typically incurs more overhead compared to multithreading in terms of inter-process communication (IPC) and process creation, as processes need to be created and managed by the operating system. On the other hand, threads in multithreading are lighter-weight and have lower overhead, as they share the same memory space and do not require separate process creation.\n",
    "\n",
    "Global Interpreter Lock (GIL): Python's Global Interpreter Lock (GIL) is a mutex that protects access to Python objects, preventing multiple threads from executing Python bytecodes at once in the same process. This means that even in multithreading, although threads may run concurrently, they do not achieve true parallelism in terms of Python code execution. In contrast, multiprocessing in Python can fully utilize multiple CPU cores and achieve true parallelism, as each process has its own Python interpreter and memory space.\n"
   ]
  },
  {
   "cell_type": "markdown",
   "id": "3e01d134",
   "metadata": {},
   "source": [
    "**Q3. Write a python code to create a process using the multiprocessing module.**\n",
    "\n",
    "**Answer:** "
   ]
  },
  {
   "cell_type": "code",
   "execution_count": null,
   "id": "875a714d",
   "metadata": {},
   "outputs": [],
   "source": [
    "import multiprocessing\n",
    "\n",
    "# Function to calculate square of a number\n",
    "def calculate_square(num):\n",
    "    return num * num\n",
    "\n",
    "\n",
    "# Input data\n",
    "numbers = [1, 2, 3, 4, 5]\n",
    "\n",
    "# Create a Process for each number and store them in a list\n",
    "processes = []\n",
    "for num in numbers:\n",
    "    process = multiprocessing.Process(target=calculate_square, args=(num,))\n",
    "    processes.append(process)\n",
    "\n",
    "# Start all the processes\n",
    "for process in processes:\n",
    "    process.start()\n",
    "\n",
    "# Wait for all the processes to finish\n",
    "for process in processes:\n",
    "    process.join()\n",
    "\n",
    "# Get results from each process\n",
    "results = []\n",
    "for process in processes:\n",
    "    results.append(process.exitcode)\n",
    "\n",
    "# Print the results\n",
    "print(\"Input numbers:\", numbers)\n",
    "print(\"Results:\", results)\n",
    "\n"
   ]
  },
  {
   "cell_type": "markdown",
   "id": "08dd9aa0",
   "metadata": {},
   "source": [
    "**Q4. What is a multiprocessing pool in python? Why is it used?**\n",
    "\n",
    "**Answer:** \n",
    "\n",
    "In Python, a multiprocessing pool is a high-level abstraction provided by the multiprocessing module that allows you to create a pool of worker processes that can concurrently execute tasks in parallel. The multiprocessing pool provides a simple and convenient way to parallelize the execution of functions across multiple input data items or tasks, and it automatically manages the creation, management, and termination of worker processes.\n",
    "\n",
    "The multiprocessing module in Python provides a Pool class that can be used to create a pool of worker processes. The Pool object provides methods such as map(), apply(), apply_async(), and map_async() that allow you to distribute tasks across the worker processes and collect the results.\n",
    "\n",
    "The main benefits of using a multiprocessing pool in Python are:\n",
    "\n",
    "Concurrency and Parallelism: The multiprocessing pool allows you to perform concurrent and parallel execution of tasks, which can significantly improve the performance of your program by utilizing multiple CPU cores.\n",
    "\n",
    "Simplified API: The Pool class provides a high-level and intuitive API for parallel execution of tasks, making it easy to parallelize your code without having to manage low-level details of process creation, communication, and synchronization.\n",
    "\n",
    "Scalability: The multiprocessing pool is scalable and can handle a large number of tasks efficiently, making it suitable for applications that require processing a large amount of data or performing computationally intensive tasks.\n",
    "\n",
    "Improved Performance: Parallelizing tasks using a multiprocessing pool can lead to significant performance improvements for tasks that can be executed concurrently, especially in CPU-bound tasks where the performance gain from parallelism can be substantial.\n",
    "\n",
    "Flexibility: The Pool class provides various methods that allow you to control the behavior of the pool, such as setting the number of worker processes, specifying task chunking, and handling errors and exceptions.\n"
   ]
  },
  {
   "cell_type": "markdown",
   "id": "7bb1ac69",
   "metadata": {},
   "source": [
    "**Q5. How can we create a pool of worker processes in python using the multiprocessing module?**\n",
    "\n",
    "**Answer:** "
   ]
  },
  {
   "cell_type": "markdown",
   "id": "9675563c",
   "metadata": {},
   "source": [
    "**Q6. Write a python program to create 4 processes, each process should print a different number using the multiprocessing module in python.**\n",
    "\n",
    "**Answer:** "
   ]
  },
  {
   "cell_type": "code",
   "execution_count": null,
   "id": "930b34e4",
   "metadata": {},
   "outputs": [],
   "source": [
    "import multiprocessing\n",
    "\n",
    "# Function to be executed by the worker processes\n",
    "def print_number(number):\n",
    "    print(\"Process ID:\", multiprocessing.current_process().name, \"Number:\", number)\n",
    "\n",
    "if __name__ == '__main__':\n",
    "    # Create a list of numbers to be printed by each process\n",
    "    numbers = [1, 2, 3, 4]\n",
    "\n",
    "    # Create 4 processes\n",
    "    processes = []\n",
    "    for number in numbers:\n",
    "        p = multiprocessing.Process(target=print_number, args=(number,))\n",
    "        processes.append(p)\n",
    "        p.start()\n",
    "\n",
    "    # Wait for all processes to finish\n",
    "    for p in processes:\n",
    "        p.join()\n",
    "\n",
    "    print(\"All processes have finished.\")\n"
   ]
  },
  {
   "cell_type": "code",
   "execution_count": null,
   "id": "475ebca0",
   "metadata": {},
   "outputs": [],
   "source": []
  }
 ],
 "metadata": {
  "kernelspec": {
   "display_name": "Python 3 (ipykernel)",
   "language": "python",
   "name": "python3"
  },
  "language_info": {
   "codemirror_mode": {
    "name": "ipython",
    "version": 3
   },
   "file_extension": ".py",
   "mimetype": "text/x-python",
   "name": "python",
   "nbconvert_exporter": "python",
   "pygments_lexer": "ipython3",
   "version": "3.9.7"
  }
 },
 "nbformat": 4,
 "nbformat_minor": 5
}
