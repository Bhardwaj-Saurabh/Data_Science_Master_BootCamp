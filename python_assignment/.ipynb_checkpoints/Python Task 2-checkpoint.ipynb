{
 "cells": [
  {
   "cell_type": "markdown",
   "metadata": {
    "id": "mi0Wa_PgAvlB"
   },
   "source": [
    "**Q1.** You are writing code for a company. The requirement of the company is that you create a python\n",
    "function that will check whether the password entered by the user is correct or not. The function should\n",
    "take the password as input and return the string “Valid Password” if the entered password follows the\n",
    "below-given password guidelines else it should return “Invalid Password”.\n",
    "\n",
    "Note:\n",
    "\n",
    "1. The Password should contain at least two uppercase letters and at least two lowercase letters.\n",
    "2. The Password should contain at least a number and three special characters.\n",
    "3. The length of the password should be 10 characters long.\n",
    "\n",
    "\n"
   ]
  },
  {
   "cell_type": "code",
   "execution_count": 11,
   "metadata": {
    "colab": {
     "base_uri": "https://localhost:8080/"
    },
    "executionInfo": {
     "elapsed": 212,
     "status": "ok",
     "timestamp": 1675875002391,
     "user": {
      "displayName": "Saurabh Bhardwaj",
      "userId": "16519378442147256210"
     },
     "user_tz": 0
    },
    "id": "a6nNGWMMAvOA",
    "outputId": "f98c03d5-10c0-47dc-83df-c8aeb1733726"
   },
   "outputs": [
    {
     "name": "stdout",
     "output_type": "stream",
     "text": [
      "Valid Password\n"
     ]
    }
   ],
   "source": [
    "def validate_password(password):\n",
    "\n",
    "    count_upper = 0\n",
    "    count_lower = 0\n",
    "    count_int = 0\n",
    "    count_spl = 0\n",
    "\n",
    "    for word in password:\n",
    "        if word.isupper():\n",
    "            count_upper += 1\n",
    "        elif word.islower():\n",
    "            count_lower += 1\n",
    "        elif word.isdigit():\n",
    "            count_int += 1\n",
    "        elif word in ['!', '@', '£', '$', '%', '^', '&', '*', '?']:\n",
    "            count_spl += 1\n",
    "            \n",
    "    if len(password) == 10:\n",
    "        if count_upper > 1 and count_lower > 1 and count_int > 0 and count_spl > 2:\n",
    "            return 'Valid Password'\n",
    "        else:\n",
    "            return 'Invalid Password'\n",
    "    else:\n",
    "        return 'Invalid Password'\n",
    "\n",
    "print(validate_password('idfAsG!£$4'))"
   ]
  },
  {
   "cell_type": "markdown",
   "metadata": {
    "id": "QGO2mlFR09QN"
   },
   "source": [
    "**Q2.** Solve the below-given questions using at least one of the following:\n",
    "1. Lambda function\n",
    "2. Filter function\n",
    "3. Map function\n",
    "4. List Comprehension\n",
    "\n",
    "- Check if the string starts with a particular letter\n",
    "\n",
    "- Check if the string is numeric\n",
    "\n",
    "- Sort a list of tuples having fruit names and their quantity. [(\"mango\",99),(\"orange\",80), (\"grapes\", 1000)]\n",
    "\n",
    "- Find the squares of numbers from 1 to 10\n",
    "\n",
    "- Find the cube root of numbers from 1 to 10\n",
    "\n",
    "- Check if a given number is even\n",
    "\n",
    "- Filter odd numbers from the given list\n",
    "[1,2,3,4,5,6,7,8,9,10]\n",
    "\n",
    "- Sort a list of integers into positive and negative integers lists.\n",
    "[1,2,3,4,5,6,-1,-2,-3,-4,-5,0]"
   ]
  },
  {
   "cell_type": "code",
   "execution_count": 36,
   "metadata": {},
   "outputs": [
    {
     "name": "stdout",
     "output_type": "stream",
     "text": [
      "True\n"
     ]
    }
   ],
   "source": [
    "string1 = 'shkfhk'\n",
    "\n",
    "print(string1.startswith('s'))"
   ]
  },
  {
   "cell_type": "code",
   "execution_count": 34,
   "metadata": {
    "executionInfo": {
     "elapsed": 505,
     "status": "ok",
     "timestamp": 1675875341492,
     "user": {
      "displayName": "Saurabh Bhardwaj",
      "userId": "16519378442147256210"
     },
     "user_tz": 0
    },
    "id": "7lN8paxB0-k6"
   },
   "outputs": [
    {
     "name": "stdout",
     "output_type": "stream",
     "text": [
      "False\n"
     ]
    }
   ],
   "source": [
    "\n",
    "string1 = 'shkfhk'\n",
    "\n",
    "print(string1.isdigit())"
   ]
  },
  {
   "cell_type": "code",
   "execution_count": null,
   "metadata": {},
   "outputs": [],
   "source": [
    "given_list = [(\"mango\",99),(\"orange\",80), (\"grapes\", 1000)]\n",
    "given_list.sort(key=lambda x:x[1])\n",
    "\n",
    "print(given_list)"
   ]
  },
  {
   "cell_type": "code",
   "execution_count": 7,
   "metadata": {
    "id": "ZQLIZ6cY3pAf"
   },
   "outputs": [
    {
     "name": "stdout",
     "output_type": "stream",
     "text": [
      "[1, 4, 9, 16, 25, 36, 49, 64, 81, 100]\n"
     ]
    }
   ],
   "source": [
    "given_numbers = [1, 2, 3, 4, 5, 6, 7, 8, 9, 10]\n",
    "\n",
    "square_numbers = list(map(lambda x: x**2, given_numbers))\n",
    "\n",
    "print(square_numbers)"
   ]
  },
  {
   "cell_type": "code",
   "execution_count": 8,
   "metadata": {},
   "outputs": [
    {
     "name": "stdout",
     "output_type": "stream",
     "text": [
      "[1, 8, 27, 64, 125, 216, 343, 512, 729, 1000]\n"
     ]
    }
   ],
   "source": [
    "given_numbers = [1, 2, 3, 4, 5, 6, 7, 8, 9, 10]\n",
    "\n",
    "square_numbers = list(map(lambda x: x**3, given_numbers))\n",
    "\n",
    "print(square_numbers)"
   ]
  },
  {
   "cell_type": "code",
   "execution_count": 17,
   "metadata": {},
   "outputs": [
    {
     "name": "stdout",
     "output_type": "stream",
     "text": [
      "[2, 4, 6, 8, 10]\n"
     ]
    }
   ],
   "source": [
    "\n",
    "numbers = [1, 2, 3, 4, 5, 6, 7, 8, 9, 10]\n",
    "even = list(filter(lambda n: n % 2 == 0, numbers))\n",
    "print(even)"
   ]
  },
  {
   "cell_type": "code",
   "execution_count": 18,
   "metadata": {},
   "outputs": [
    {
     "name": "stdout",
     "output_type": "stream",
     "text": [
      "[1, 3, 5, 7, 9]\n"
     ]
    }
   ],
   "source": [
    "\n",
    "numbers = [1, 2, 3, 4, 5, 6, 7, 8, 9, 10]\n",
    "odd = list(filter(lambda n: n % 2 != 0, numbers))\n",
    "print(odd)"
   ]
  },
  {
   "cell_type": "code",
   "execution_count": 32,
   "metadata": {},
   "outputs": [
    {
     "name": "stdout",
     "output_type": "stream",
     "text": [
      "[-5, -4, -3, -2, -1, 0, 1, 2, 3, 4, 5, 6]\n"
     ]
    }
   ],
   "source": [
    "given_list = [1,2,3,4,5,6,-1,-2,-3,-4,-5,0]\n",
    "given_list.sort()\n",
    "print(given_list)"
   ]
  },
  {
   "cell_type": "code",
   "execution_count": null,
   "metadata": {},
   "outputs": [],
   "source": []
  }
 ],
 "metadata": {
  "colab": {
   "authorship_tag": "ABX9TyOv/KD9dFnaQtCBx2C8pWdz",
   "provenance": []
  },
  "kernelspec": {
   "display_name": "Python 3 (ipykernel)",
   "language": "python",
   "name": "python3"
  },
  "language_info": {
   "codemirror_mode": {
    "name": "ipython",
    "version": 3
   },
   "file_extension": ".py",
   "mimetype": "text/x-python",
   "name": "python",
   "nbconvert_exporter": "python",
   "pygments_lexer": "ipython3",
   "version": "3.9.7"
  }
 },
 "nbformat": 4,
 "nbformat_minor": 1
}
